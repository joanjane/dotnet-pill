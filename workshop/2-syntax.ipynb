{
 "cells": [
  {
   "cell_type": "markdown",
   "id": "aff8e490",
   "metadata": {},
   "source": [
    "## 2. Basic Syntax and Structure"
   ]
  },
  {
   "cell_type": "markdown",
   "id": "ba4d72f2",
   "metadata": {},
   "source": [
    "### Primitive types and variables"
   ]
  },
  {
   "cell_type": "code",
   "execution_count": null,
   "id": "de121c3f",
   "metadata": {
    "language_info": {
     "name": "polyglot-notebook"
    },
    "polyglot_notebook": {
     "kernelName": "csharp"
    }
   },
   "outputs": [],
   "source": [
    "/*\n",
    "Multiline comments can be written like this.\n",
    "*/\n",
    "\n",
    "int age = 25;\n",
    "decimal money = 100.50m;\n",
    "bool isStudent = true;\n",
    "char initial = 'J';\n",
    "string name = \"John\";\n",
    "string surname = \"Doe\";\n",
    "string fullName = $\"{name} {surname}\"; // string interpolation\n",
    "\n",
    "var score = 100;  // inferred as int\n",
    "\n",
    "const double Pi = 3.14159;\n",
    "\n",
    "int? optionalNumber = null; // nullable type\n",
    "\n",
    "int defaultValue = default; // returns 0"
   ]
  },
  {
   "cell_type": "markdown",
   "id": "ddfc0bd4",
   "metadata": {},
   "source": [
    "### Control flow"
   ]
  },
  {
   "cell_type": "code",
   "execution_count": null,
   "id": "eadbbf26",
   "metadata": {
    "language_info": {
     "name": "polyglot-notebook"
    },
    "polyglot_notebook": {
     "kernelName": "csharp"
    }
   },
   "outputs": [
    {
     "name": "stdout",
     "output_type": "stream",
     "text": [
      "It's not Friday yet.\n",
      "Sunday\n",
      "Monday\n",
      "Tuesday\n",
      "Wednesday\n",
      "Thursday\n",
      "Friday\n",
      "Saturday\n",
      "Iteration 0\n",
      "Iteration 1\n",
      "Iteration 2\n"
     ]
    }
   ],
   "source": [
    "// conditions\n",
    "if (DateTime.Now.DayOfWeek == DayOfWeek.Friday)\n",
    "{\n",
    "    Console.WriteLine(\"It's Friday! 🎉\");\n",
    "} \n",
    "else if (DateTime.Now.DayOfWeek == DayOfWeek.Monday)\n",
    "{\n",
    "    Console.WriteLine(\"I hate mondays 😾.\");\n",
    "}\n",
    "else\n",
    "{\n",
    "    Console.WriteLine(\"It's not Friday yet.\");\n",
    "}\n",
    "\n",
    "char grade = 'B';\n",
    "switch (grade)\n",
    "{\n",
    "    case 'A':\n",
    "        Console.WriteLine(\"Excellent!\");\n",
    "        break;\n",
    "    case 'B':\n",
    "    case 'C':\n",
    "        Console.WriteLine(\"Well done.\");\n",
    "        break;\n",
    "    case 'D':\n",
    "        Console.WriteLine(\"You passed.\");\n",
    "        break;\n",
    "    case 'F':\n",
    "        Console.WriteLine(\"Better try again.\");\n",
    "        break;\n",
    "    default:\n",
    "        Console.WriteLine(\"Invalid grade.\");\n",
    "        break;\n",
    "}\n",
    "\n",
    "// Loops\n",
    "foreach (var day in Enum.GetValues(typeof(DayOfWeek)))\n",
    "{\n",
    "    Console.WriteLine(day);\n",
    "}\n",
    "\n",
    "for (var i = 0; i < 3; i++)\n",
    "{\n",
    "    Console.WriteLine($\"Iteration {i}\");\n",
    "}\n",
    "\n",
    "int count = 0;\n",
    "while (count < 5)\n",
    "{\n",
    "    Console.WriteLine($\"Count is {count}\");\n",
    "    count++;\n",
    "}"
   ]
  }
 ],
 "metadata": {
  "kernelspec": {
   "display_name": ".NET (C#)",
   "language": "C#",
   "name": ".net-csharp"
  },
  "language_info": {
   "name": "polyglot-notebook"
  },
  "polyglot_notebook": {
   "kernelInfo": {
    "defaultKernelName": "csharp",
    "items": [
     {
      "aliases": [],
      "name": "csharp"
     }
    ]
   }
  }
 },
 "nbformat": 4,
 "nbformat_minor": 5
}
