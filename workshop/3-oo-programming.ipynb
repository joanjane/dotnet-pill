{
 "cells": [
  {
   "cell_type": "markdown",
   "id": "aff8e490",
   "metadata": {},
   "source": [
    "## 3. Object-Oriented Programming in C#"
   ]
  },
  {
   "cell_type": "markdown",
   "metadata": {
    "language_info": {
     "name": "polyglot-notebook"
    },
    "polyglot_notebook": {
     "kernelName": "csharp"
    }
   },
   "source": [
    "### Classes and objects\n",
    "* A class is a blueprint or template that defines the properties (data) and methods (behavior) of objects.\n",
    "* An object is an instance of a class.\n",
    "\n",
    "#### Constructors and Destructors\n",
    "* A constructor is a special method called when an object is created, used to initialize the object.\n",
    "* A destructor is rarely used in C# because of garbage collection but can be defined to clean up.\n",
    "\n",
    "#### Properties, fields, and methods\n",
    "* Fields are variables declared inside a class to store data.\n",
    "* Properties provide a flexible mechanism to read, write, or compute the values of private fields with get and set accessors.\n",
    "* Methods define the behavior of the class."
   ]
  },
  {
   "cell_type": "code",
   "execution_count": 37,
   "metadata": {
    "language_info": {
     "name": "polyglot-notebook"
    },
    "polyglot_notebook": {
     "kernelName": "csharp"
    }
   },
   "outputs": [
    {
     "name": "stdout",
     "output_type": "stream",
     "text": [
      "Hi, my name is John Doe and I am 30 years old.\r\n"
     ]
    }
   ],
   "source": [
    "public class Person\n",
    "{\n",
    "    // Fields\n",
    "    private DateTime _createdTime = DateTime.UtcNow;\n",
    "\n",
    "    // Properties\n",
    "    public string Name { get; set; } = \"\"; // Default value\n",
    "    public int Age { get; set; }\n",
    "\n",
    "    // Method\n",
    "    public void Introduce()\n",
    "    {\n",
    "        Console.WriteLine($\"Hi, my name is {Name} and I am {Age} years old.\");\n",
    "    }\n",
    "\n",
    "    // Default constructor\n",
    "    public Person() { }\n",
    "\n",
    "    // Constructor overloading\n",
    "    public Person(string name, int age)\n",
    "    {\n",
    "        Name = name;\n",
    "        Age = age;\n",
    "    }\n",
    "}\n",
    "\n",
    "var person = new Person(\"John Doe\", 30);\n",
    "person.Introduce();"
   ]
  },
  {
   "cell_type": "markdown",
   "id": "ba4d72f2",
   "metadata": {},
   "source": [
    "### Inheritance and polymorphism\n",
    "* Inheritance allows a class to inherit members (fields, properties, methods) from another class.\n",
    "* The class that inherits is called the derived class; the class being inherited from is the base class.\n",
    "* Polymorphism allows methods to have different implementations in derived classes."
   ]
  },
  {
   "cell_type": "code",
   "execution_count": 38,
   "id": "de121c3f",
   "metadata": {
    "language_info": {
     "name": "polyglot-notebook"
    },
    "polyglot_notebook": {
     "kernelName": "csharp"
    }
   },
   "outputs": [
    {
     "name": "stdout",
     "output_type": "stream",
     "text": [
      "Bark\n",
      "Meow\n"
     ]
    }
   ],
   "source": [
    "public class Animal\n",
    "{\n",
    "    public virtual void Speak()\n",
    "    {\n",
    "        Console.WriteLine(\"Animal sound\");\n",
    "    }\n",
    "}\n",
    "\n",
    "public class Dog : Animal\n",
    "{\n",
    "    public override void Speak()\n",
    "    {\n",
    "        Console.WriteLine(\"Bark\");\n",
    "    }\n",
    "}\n",
    "\n",
    "public class Cat : Animal\n",
    "{\n",
    "    public override void Speak()\n",
    "    {\n",
    "        Console.WriteLine(\"Meow\");\n",
    "    }\n",
    "}\n",
    "\n",
    "var myDog = new Dog();\n",
    "var myCat = new Cat();\n",
    "\n",
    "myDog.Speak(); // Output: Bark\n",
    "myCat.Speak(); // Output: Meow"
   ]
  },
  {
   "cell_type": "markdown",
   "id": "ddfc0bd4",
   "metadata": {},
   "source": [
    "### Interfaces and abstract classes\n",
    "* An interface defines a contract with method signatures but no implementation. Classes implement interfaces.\n",
    "* An abstract class can have both implemented and abstract (unimplemented) methods. It cannot be instantiated directly."
   ]
  },
  {
   "cell_type": "code",
   "execution_count": 39,
   "id": "eadbbf26",
   "metadata": {
    "language_info": {
     "name": "polyglot-notebook"
    },
    "polyglot_notebook": {
     "kernelName": "csharp"
    }
   },
   "outputs": [
    {
     "name": "stdout",
     "output_type": "stream",
     "text": [
      "Car is moving\n",
      "Circle area: 3.141592653589793\n"
     ]
    }
   ],
   "source": [
    "// Interface example\n",
    "\n",
    "public interface IMovable\n",
    "{\n",
    "    void Move();\n",
    "}\n",
    "\n",
    "public class Car : IMovable\n",
    "{\n",
    "    public void Move()\n",
    "    {\n",
    "        Console.WriteLine(\"Car is moving\");\n",
    "    }\n",
    "}\n",
    "\n",
    "var myCar = new Car();\n",
    "myCar.Move(); // Output: Car is moving\n",
    "\n",
    "// Abstract class example\n",
    "\n",
    "public abstract class Shape\n",
    "{\n",
    "    public abstract double GetArea();\n",
    "\n",
    "    public void Display()\n",
    "    {\n",
    "        Console.WriteLine(\"Displaying shape\");\n",
    "    }\n",
    "}\n",
    "\n",
    "public class Circle : Shape\n",
    "{\n",
    "    public double Radius { get; set; }\n",
    "\n",
    "    public Circle(double radius)\n",
    "    {\n",
    "        Radius = radius;\n",
    "    }\n",
    "\n",
    "    public override double GetArea()\n",
    "    {\n",
    "        return Math.PI * Radius * Radius;\n",
    "    }\n",
    "}\n",
    "\n",
    "var circle = new Circle(1);\n",
    "Console.WriteLine($\"Circle area: {circle.GetArea()}\"); // Output: Circle area: 3.141592653589793"
   ]
  },
  {
   "cell_type": "markdown",
   "id": "8077ab4e",
   "metadata": {},
   "source": [
    "### Records\n",
    "* A record is a reference type that provides built-in functionality for encapsulating data.\n",
    "* Records are immutable by default (their properties are init-only).\n",
    "* They provide value-based equality (two records with the same data are considered equal).\n",
    "* Ideal for data transfer objects, DTOs, or any scenario where you want to represent data with minimal boilerplate.\n",
    "* Inheritance is supported"
   ]
  },
  {
   "cell_type": "code",
   "execution_count": 51,
   "metadata": {
    "language_info": {
     "name": "polyglot-notebook"
    },
    "polyglot_notebook": {
     "kernelName": "csharp"
    }
   },
   "outputs": [
    {
     "name": "stdout",
     "output_type": "stream",
     "text": [
      "Pet { Name = Rex, Age = 1 }\n",
      "True\n",
      "Pet { Name = Rex, Age = 2 }\n"
     ]
    }
   ],
   "source": [
    "// Declare a record with 2 properties\n",
    "public record Pet(string Name, int Age);\n",
    "// Could be declared as:\n",
    "/*\n",
    "public record Pet\n",
    "{\n",
    "    public string Name { get; init; }\n",
    "    public int Age { get; init; }\n",
    "}\n",
    "*/\n",
    "\n",
    "var pet1 = new Pet(\"Rex\", 1);\n",
    "\n",
    "Console.WriteLine(pet1);  // Output: Pet { Name = \"Rex\", Age = 1 }\n",
    "Console.WriteLine(pet1 == new Pet(\"Rex\", 1));  // Output: True (value equality)\n",
    "\n",
    "// pet1 is immutable, so we create a new record with modified Age\n",
    "var pet2 = pet1 with { Age = 2 }; // Create a new record with modified Age\n",
    "Console.WriteLine(pet2);"
   ]
  },
  {
   "cell_type": "markdown",
   "metadata": {
    "language_info": {
     "name": "polyglot-notebook"
    },
    "polyglot_notebook": {
     "kernelName": "csharp"
    }
   },
   "source": [
    "### Dynamic objects\n",
    "* In some cases, you may not know the structure of an object at compile time.\n",
    "* You can use the `dynamic` type to work with such objects.\n",
    "* Dynamic objects allow you to add properties and methods at runtime.\n",
    "* Far from being a good practice, it is not as good as javascript."
   ]
  },
  {
   "cell_type": "code",
   "execution_count": 1,
   "metadata": {
    "language_info": {
     "name": "polyglot-notebook"
    },
    "polyglot_notebook": {
     "kernelName": "csharp"
    }
   },
   "outputs": [
    {
     "name": "stdout",
     "output_type": "stream",
     "text": [
      "Dynamic object: Name = Dynamic, Age = 5\r\n"
     ]
    }
   ],
   "source": [
    "dynamic dynamicObject = new { Name = \"Dynamic\", Age = 5 };\n",
    "Console.WriteLine($\"Dynamic object: Name = {dynamicObject.Name}, Age = {dynamicObject.Age}\"); // Output: Dynamic object: Name = Dynamic, Age = 5"
   ]
  },
  {
   "cell_type": "markdown",
   "id": "38985f73",
   "metadata": {},
   "source": [
    "### Namespaces\n",
    "* Code is organized in namespaces. \n",
    "* The namespaces are expected to match the folder structure, with '.' as a separator (although is not required)\n",
    "* To use other \"modules\", you need to import them with `using` keyword.\n",
    "\n",
    "```csharp\n",
    "// File Sample/Logging/Logger.cs\n",
    "namespace Sample.Logging\n",
    "{\n",
    "    public class Logger\n",
    "    {\n",
    "        public static void Log(string message)\n",
    "        {\n",
    "            Console.WriteLine($\"Log: {message}\");\n",
    "        }\n",
    "    }\n",
    "}\n",
    "\n",
    "// File Sample/Calendar/CalendarService.cs\n",
    "using Sample.Logging;\n",
    "\n",
    "namespace Sample.Calendar; // new syntax without braces { }\n",
    "\n",
    "public class CalendarService\n",
    "{\n",
    "    public string DisplayDayOfWeek()\n",
    "    {\n",
    "        var day = DateTime.Now.DayOfWeek.ToString();\n",
    "        return Logger.Log(day); \n",
    "        // Alternative: Fully qualify the namespace and remove using\n",
    "        // return Sample.Logging.Logger.Log(day);\n",
    "    }\n",
    "}\n",
    "```"
   ]
  }
 ],
 "metadata": {
  "kernelspec": {
   "display_name": ".NET (C#)",
   "language": "C#",
   "name": ".net-csharp"
  },
  "language_info": {
   "name": "polyglot-notebook"
  },
  "polyglot_notebook": {
   "kernelInfo": {
    "defaultKernelName": "csharp",
    "items": [
     {
      "aliases": [],
      "name": "csharp"
     }
    ]
   }
  }
 },
 "nbformat": 4,
 "nbformat_minor": 5
}
