{
 "cells": [
  {
   "cell_type": "markdown",
   "id": "0b655866",
   "metadata": {},
   "source": [
    "## 4. Exception Handling"
   ]
  },
  {
   "cell_type": "markdown",
   "id": "f2e987e0",
   "metadata": {},
   "source": [
    "### Try, catch, finally blocks\n",
    "* You can catch the most specific exception as seen below\n",
    "* Finally block always get executed"
   ]
  },
  {
   "cell_type": "code",
   "execution_count": 2,
   "id": "651e5851",
   "metadata": {},
   "outputs": [
    {
     "name": "stdout",
     "output_type": "stream",
     "text": [
      "Index is out of range!\n",
      "This block always executes.\n"
     ]
    }
   ],
   "source": [
    "try \n",
    "{\n",
    "    // Example of a try-catch block\n",
    "    int[] numbers = { 1, 2, 3 };\n",
    "    Console.WriteLine(numbers[3]); // This will throw an IndexOutOfRangeException\n",
    "} \n",
    "catch (IndexOutOfRangeException ex) {\n",
    "    Console.WriteLine($\"Index is out of range!\");\n",
    "} \n",
    "catch (Exception ex) {\n",
    "    Console.WriteLine($\"An error occurred: {ex.Message}\");\n",
    "}\n",
    "finally {\n",
    "    Console.WriteLine(\"This block always executes.\");\n",
    "}"
   ]
  },
  {
   "cell_type": "markdown",
   "id": "7a9d5cb8",
   "metadata": {},
   "source": [
    "### Custom exceptions\n",
    "* Build your own exception for handling app errors"
   ]
  },
  {
   "cell_type": "code",
   "execution_count": 3,
   "id": "16d7d6d3",
   "metadata": {},
   "outputs": [
    {
     "name": "stdout",
     "output_type": "stream",
     "text": [
      "Custom Exception: Email - You must provide a value for the Email field.\r\n"
     ]
    }
   ],
   "source": [
    "public class RequiredFieldException : Exception\n",
    "{\n",
    "    public string FieldName { get; }\n",
    "\n",
    "    public RequiredFieldException(string fieldName, string message) : base(message)\n",
    "    {\n",
    "        FieldName = fieldName;\n",
    "    }\n",
    "\n",
    "    public RequiredFieldException(string fieldName, string message, Exception inner) : base(message, inner)\n",
    "    {\n",
    "        FieldName = fieldName;\n",
    "    }\n",
    "}\n",
    "\n",
    "try {\n",
    "    throw new RequiredFieldException(\"Email\", \"You must provide a value for the Email field.\");\n",
    "} catch (RequiredFieldException ex) {\n",
    "    Console.WriteLine($\"Custom Exception: {ex.FieldName} - {ex.Message}\");\n",
    "}"
   ]
  }
 ],
 "metadata": {
  "kernelspec": {
   "display_name": ".NET (C#)",
   "language": "C#",
   "name": ".net-csharp"
  },
  "language_info": {
   "name": "polyglot-notebook"
  },
  "polyglot_notebook": {
   "kernelInfo": {
    "defaultKernelName": "csharp",
    "items": [
     {
      "aliases": [],
      "name": "csharp"
     }
    ]
   }
  }
 },
 "nbformat": 4,
 "nbformat_minor": 5
}
