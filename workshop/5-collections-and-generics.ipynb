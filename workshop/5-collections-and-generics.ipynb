{
 "cells": [
  {
   "cell_type": "markdown",
   "id": "0b655866",
   "metadata": {},
   "source": [
    "## 5. Collections and Generics"
   ]
  },
  {
   "cell_type": "markdown",
   "id": "f2e987e0",
   "metadata": {},
   "source": [
    "### Arrays, Lists, Dictionaries\n",
    "There are many types that implement IEnumerable interface\n",
    "* Arrays are fixed size collections\n",
    "* Lists are dynamic size arrays\n",
    "* Dictionaries are collection of key-value pairs for fast lookup by key."
   ]
  },
  {
   "cell_type": "code",
   "execution_count": 10,
   "id": "651e5851",
   "metadata": {
    "language_info": {
     "name": "polyglot-notebook"
    },
    "polyglot_notebook": {
     "kernelName": "csharp"
    }
   },
   "outputs": [
    {
     "name": "stdout",
     "output_type": "stream",
     "text": [
      "10\n",
      "20\n",
      "30\n",
      "----\n",
      "Apple\n",
      "Cherry\n",
      "----\n",
      "Age of Alice: 30"
     ]
    }
   ],
   "source": [
    "using System.Collections.Generic;\n",
    "\n",
    "int[] numbers = new int[3];\n",
    "numbers[0] = 10;\n",
    "numbers[1] = 20;\n",
    "numbers[2] = 30;\n",
    "\n",
    "foreach (int number in numbers)\n",
    "{\n",
    "    Console.WriteLine(number);\n",
    "}\n",
    "\n",
    "Console.WriteLine(\"----\");\n",
    "\n",
    "var fruits = new List<string>();\n",
    "fruits.Add(\"Apple\");\n",
    "fruits.Add(\"Banana\");\n",
    "fruits.Add(\"Cherry\");\n",
    "\n",
    "fruits.Remove(\"Banana\");\n",
    "\n",
    "// Iterate\n",
    "foreach (string fruit in fruits)\n",
    "{\n",
    "    Console.WriteLine(fruit);\n",
    "}\n",
    "\n",
    "Console.WriteLine(\"----\");\n",
    "\n",
    "Dictionary<string, int> ages = new();\n",
    "ages[\"Alice\"] = 30;\n",
    "ages[\"Bob\"] = 25;\n",
    "\n",
    "Console.Write($\"Age of Alice: {ages[\"Alice\"]}\");"
   ]
  },
  {
   "cell_type": "markdown",
   "id": "7a9d5cb8",
   "metadata": {},
   "source": [
    "### Generics\n",
    "* Allows to build reusable code decoupled of specific implementation/classes\n",
    "* Can define constraints to the Generic to ensure that implements some features\n",
    "* You can define multiple generic types at a class or method level\n"
   ]
  },
  {
   "cell_type": "code",
   "execution_count": 15,
   "id": "16d7d6d3",
   "metadata": {
    "language_info": {
     "name": "polyglot-notebook"
    },
    "polyglot_notebook": {
     "kernelName": "csharp"
    }
   },
   "outputs": [
    {
     "data": {
      "text/html": [
       "<details open=\"open\" class=\"dni-treeview\"><summary><span class=\"dni-code-hint\"><code>Submission#15+User</code></span></summary><div><table><thead><tr></tr></thead><tbody><tr><td>Name</td><td><div class=\"dni-plaintext\"><pre>Alice</pre></div></td></tr><tr><td>Id</td><td><div class=\"dni-plaintext\"><pre>84d9bb2d-25c8-4d1d-839b-dd5c7f01a13f</pre></div></td></tr></tbody></table></div></details><style>\r\n",
       ".dni-code-hint {\r\n",
       "    font-style: italic;\r\n",
       "    overflow: hidden;\r\n",
       "    white-space: nowrap;\r\n",
       "}\r\n",
       ".dni-treeview {\r\n",
       "    white-space: nowrap;\r\n",
       "}\r\n",
       ".dni-treeview td {\r\n",
       "    vertical-align: top;\r\n",
       "    text-align: start;\r\n",
       "}\r\n",
       "details.dni-treeview {\r\n",
       "    padding-left: 1em;\r\n",
       "}\r\n",
       "table td {\r\n",
       "    text-align: start;\r\n",
       "}\r\n",
       "table tr { \r\n",
       "    vertical-align: top; \r\n",
       "    margin: 0em 0px;\r\n",
       "}\r\n",
       "table tr td pre \r\n",
       "{ \r\n",
       "    vertical-align: top !important; \r\n",
       "    margin: 0em 0px !important;\r\n",
       "} \r\n",
       "table th {\r\n",
       "    text-align: start;\r\n",
       "}\r\n",
       "</style>"
      ]
     },
     "metadata": {},
     "output_type": "display_data"
    }
   ],
   "source": [
    "public abstract class BaseEntity\n",
    "{\n",
    "    public Guid Id { get; init; } = Guid.NewGuid();\n",
    "}\n",
    "\n",
    "public interface IRepository<T>\n",
    "    where T : BaseEntity // Generic constraint to ensure T is a BaseEntity\n",
    "{\n",
    "    public T GetById(Guid id);\n",
    "    public T Insert(T value);\n",
    "}\n",
    "\n",
    "public class InMemoryRepository<T> : IRepository<T>\n",
    "    where T : BaseEntity\n",
    "{\n",
    "    private readonly Dictionary<Guid, T> _store = new();\n",
    "\n",
    "    public T GetById(Guid id)\n",
    "    {\n",
    "        if (_store.TryGetValue(id, out var entity))\n",
    "        {\n",
    "            return entity;\n",
    "        }\n",
    "        throw new KeyNotFoundException($\"Entity with id {id} not found.\");\n",
    "    }\n",
    "\n",
    "    public T Insert(T value)\n",
    "    {\n",
    "        _store[value.Id] = value;\n",
    "        return value;\n",
    "    }\n",
    "}\n",
    "\n",
    "// Example\n",
    "public class User : BaseEntity\n",
    "{\n",
    "    public string Name { get; set; }\n",
    "}\n",
    "\n",
    "var repository = new InMemoryRepository<User>();\n",
    "var user = new User { Name = \"Alice\" };\n",
    "repository.Insert(user);\n",
    "\n",
    "repository.GetById(user.Id)"
   ]
  }
 ],
 "metadata": {
  "kernelspec": {
   "display_name": ".NET (C#)",
   "language": "C#",
   "name": ".net-csharp"
  },
  "language_info": {
   "name": "polyglot-notebook"
  },
  "polyglot_notebook": {
   "kernelInfo": {
    "defaultKernelName": "csharp",
    "items": [
     {
      "aliases": [],
      "name": "csharp"
     }
    ]
   }
  }
 },
 "nbformat": 4,
 "nbformat_minor": 5
}
