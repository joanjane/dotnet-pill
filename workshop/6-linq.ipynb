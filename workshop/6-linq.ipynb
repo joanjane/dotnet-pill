{
 "cells": [
  {
   "cell_type": "markdown",
   "id": "42792ec5",
   "metadata": {},
   "source": [
    "## 6. LINQ (Language Integrated Query)\n",
    "This section covers LINQ fluent syntax (recommended), instead of query syntax."
   ]
  },
  {
   "cell_type": "code",
   "execution_count": 19,
   "id": "46499284",
   "metadata": {},
   "outputs": [],
   "source": [
    "public class Product\n",
    "{\n",
    "    public required string Name { get; set; }\n",
    "    public required string Category { get; set; }\n",
    "    public int Stock { get; set; } = 0;\n",
    "}\n",
    "var products = new List<Product>\n",
    "{\n",
    "    new Product { Name = \"Apple\", Category = \"Fruit\", Stock = 10 },\n",
    "    new Product { Name = \"Carrot\", Category = \"Vegetable\", Stock = 5 },\n",
    "    new Product { Name = \"Banana\", Category = \"Fruit\", Stock = 20 }\n",
    "};"
   ]
  },
  {
   "cell_type": "markdown",
   "id": "f433949f",
   "metadata": {},
   "source": [
    "### Projection\n",
    "Use `.Select()` method to project/map values. Similar to .map in JavaScript."
   ]
  },
  {
   "cell_type": "code",
   "execution_count": 20,
   "id": "0b6723f1",
   "metadata": {},
   "outputs": [
    {
     "data": {
      "text/html": [
       "<div class=\"dni-plaintext\"><pre>[ Apple, Carrot, Banana ]</pre></div><style>\r\n",
       ".dni-code-hint {\r\n",
       "    font-style: italic;\r\n",
       "    overflow: hidden;\r\n",
       "    white-space: nowrap;\r\n",
       "}\r\n",
       ".dni-treeview {\r\n",
       "    white-space: nowrap;\r\n",
       "}\r\n",
       ".dni-treeview td {\r\n",
       "    vertical-align: top;\r\n",
       "    text-align: start;\r\n",
       "}\r\n",
       "details.dni-treeview {\r\n",
       "    padding-left: 1em;\r\n",
       "}\r\n",
       "table td {\r\n",
       "    text-align: start;\r\n",
       "}\r\n",
       "table tr { \r\n",
       "    vertical-align: top; \r\n",
       "    margin: 0em 0px;\r\n",
       "}\r\n",
       "table tr td pre \r\n",
       "{ \r\n",
       "    vertical-align: top !important; \r\n",
       "    margin: 0em 0px !important;\r\n",
       "} \r\n",
       "table th {\r\n",
       "    text-align: start;\r\n",
       "}\r\n",
       "</style>"
      ]
     },
     "metadata": {},
     "output_type": "display_data"
    }
   ],
   "source": [
    "products.Select(p => p.Name)"
   ]
  },
  {
   "cell_type": "markdown",
   "id": "de2a236f",
   "metadata": {},
   "source": [
    "### Filtering\n",
    "Use `.Where()` method to filter values."
   ]
  },
  {
   "cell_type": "code",
   "execution_count": 21,
   "id": "c2ce510e",
   "metadata": {},
   "outputs": [
    {
     "data": {
      "text/html": [
       "<div class=\"dni-plaintext\"><pre>[ Carrot ]</pre></div><style>\r\n",
       ".dni-code-hint {\r\n",
       "    font-style: italic;\r\n",
       "    overflow: hidden;\r\n",
       "    white-space: nowrap;\r\n",
       "}\r\n",
       ".dni-treeview {\r\n",
       "    white-space: nowrap;\r\n",
       "}\r\n",
       ".dni-treeview td {\r\n",
       "    vertical-align: top;\r\n",
       "    text-align: start;\r\n",
       "}\r\n",
       "details.dni-treeview {\r\n",
       "    padding-left: 1em;\r\n",
       "}\r\n",
       "table td {\r\n",
       "    text-align: start;\r\n",
       "}\r\n",
       "table tr { \r\n",
       "    vertical-align: top; \r\n",
       "    margin: 0em 0px;\r\n",
       "}\r\n",
       "table tr td pre \r\n",
       "{ \r\n",
       "    vertical-align: top !important; \r\n",
       "    margin: 0em 0px !important;\r\n",
       "} \r\n",
       "table th {\r\n",
       "    text-align: start;\r\n",
       "}\r\n",
       "</style>"
      ]
     },
     "metadata": {},
     "output_type": "display_data"
    }
   ],
   "source": [
    "// Filter low stock products\n",
    "products.Where(p => p.Stock < 10).Select(p => p.Name).ToList()"
   ]
  },
  {
   "cell_type": "markdown",
   "id": "38c8e166",
   "metadata": {},
   "source": [
    "### Aggregation\n",
    "Use `.Count()`, `.Any()`, `.Sum()` and many other aggregation functions easily."
   ]
  },
  {
   "cell_type": "code",
   "execution_count": 25,
   "id": "f8b2415f",
   "metadata": {},
   "outputs": [
    {
     "name": "stdout",
     "output_type": "stream",
     "text": [
      "There are products under Drinks category.\n",
      "Total products: 3\n",
      "Total Categories: 2\n",
      "Total Stock: 35\n"
     ]
    }
   ],
   "source": [
    "if (!products.Where(p => p.Category == \"Drinks\").Any()) \n",
    "{\n",
    "    Console.WriteLine(\"There are products under Drinks category.\");\n",
    "}\n",
    "\n",
    "var totalProducts = products.Count();\n",
    "Console.WriteLine($\"Total products: {totalProducts}\");\n",
    "\n",
    "var totalCategories = products.Select(c => c.Category).Distinct().Count();\n",
    "Console.WriteLine($\"Total Categories: {totalCategories}\");\n",
    "\n",
    "var totalStock = products.Select(c => c.Stock).Sum();\n",
    "Console.WriteLine($\"Total Stock: {totalStock}\");"
   ]
  },
  {
   "cell_type": "markdown",
   "id": "55be12eb",
   "metadata": {},
   "source": [
    "### Grouping\n",
    "Use `.GroupBy()` method to group data by fields. This can be easily combined with `.ToDictionary()` method."
   ]
  },
  {
   "cell_type": "code",
   "execution_count": 11,
   "id": "4b28f187",
   "metadata": {},
   "outputs": [
    {
     "data": {
      "text/html": [
       "<div class=\"dni-plaintext\"><pre>[ Apple, Banana ]</pre></div><style>\r\n",
       ".dni-code-hint {\r\n",
       "    font-style: italic;\r\n",
       "    overflow: hidden;\r\n",
       "    white-space: nowrap;\r\n",
       "}\r\n",
       ".dni-treeview {\r\n",
       "    white-space: nowrap;\r\n",
       "}\r\n",
       ".dni-treeview td {\r\n",
       "    vertical-align: top;\r\n",
       "    text-align: start;\r\n",
       "}\r\n",
       "details.dni-treeview {\r\n",
       "    padding-left: 1em;\r\n",
       "}\r\n",
       "table td {\r\n",
       "    text-align: start;\r\n",
       "}\r\n",
       "table tr { \r\n",
       "    vertical-align: top; \r\n",
       "    margin: 0em 0px;\r\n",
       "}\r\n",
       "table tr td pre \r\n",
       "{ \r\n",
       "    vertical-align: top !important; \r\n",
       "    margin: 0em 0px !important;\r\n",
       "} \r\n",
       "table th {\r\n",
       "    text-align: start;\r\n",
       "}\r\n",
       "</style>"
      ]
     },
     "metadata": {},
     "output_type": "display_data"
    }
   ],
   "source": [
    "// Group products by category\n",
    "var groupedProductsByCategory = products\n",
    "    .GroupBy(p => p.Category)\n",
    "    .ToDictionary(g => g.Key, g => g.ToList());\n",
    "\n",
    "// Show Fruit category products\n",
    "groupedProductsByCategory[\"Fruit\"].Select(p => p.Name).ToList()"
   ]
  }
 ],
 "metadata": {
  "kernelspec": {
   "display_name": ".NET (C#)",
   "language": "C#",
   "name": ".net-csharp"
  },
  "language_info": {
   "name": "polyglot-notebook"
  },
  "polyglot_notebook": {
   "kernelInfo": {
    "defaultKernelName": "csharp",
    "items": [
     {
      "aliases": [],
      "name": "csharp"
     }
    ]
   }
  }
 },
 "nbformat": 4,
 "nbformat_minor": 5
}
