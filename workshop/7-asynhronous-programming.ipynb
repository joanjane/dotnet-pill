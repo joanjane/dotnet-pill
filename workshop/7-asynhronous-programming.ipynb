{
 "cells": [
  {
   "cell_type": "markdown",
   "id": "ebd3e945",
   "metadata": {},
   "source": [
    "## 7. Asyncronous Programming"
   ]
  },
  {
   "cell_type": "markdown",
   "id": "c975003c",
   "metadata": {},
   "source": [
    "### async and await keywords\n",
    "Use always async/await methods when there's an inbound/outbound process"
   ]
  },
  {
   "cell_type": "code",
   "execution_count": 11,
   "id": "4d5d8f31",
   "metadata": {},
   "outputs": [
    {
     "name": "stdout",
     "output_type": "stream",
     "text": [
      "[7/17/2025 12:56:24 PM] Waiting 1s.\n",
      "[7/17/2025 12:56:25 PM] Task completed.\n"
     ]
    }
   ],
   "source": [
    "Console.WriteLine($\"[{DateTime.Now}] Waiting 1s.\");\n",
    "await Task.Delay(1000);\n",
    "Console.WriteLine($\"[{DateTime.Now}] Task completed.\");"
   ]
  },
  {
   "cell_type": "markdown",
   "id": "03ab3eb2",
   "metadata": {},
   "source": [
    "### Concurrent execution\n",
    "You can run multiple Tasks at once using methods like Task.WhenAll, which waits all the Tasks to be completed"
   ]
  },
  {
   "cell_type": "code",
   "execution_count": 12,
   "id": "ee05ca58",
   "metadata": {},
   "outputs": [
    {
     "name": "stdout",
     "output_type": "stream",
     "text": [
      "[7/17/2025 12:56:25 PM] Running concurrent tasks.\n",
      "[7/17/2025 12:56:27 PM] Tasks completed.\n"
     ]
    }
   ],
   "source": [
    "\n",
    "Console.WriteLine($\"[{DateTime.Now}] Running concurrent tasks.\");\n",
    "await Task.WhenAll(\n",
    "    Task.Delay(1000),\n",
    "    Task.Delay(2000) // As this task takes longer, WhenAll will complete after 2s\n",
    ");\n",
    "Console.WriteLine($\"[{DateTime.Now}] Tasks completed.\");"
   ]
  },
  {
   "cell_type": "markdown",
   "id": "b5118005",
   "metadata": {},
   "source": [
    "### Cancellation tokens\n",
    "You can abort a task using cancellation tokens. When building async code, always try to accept `CancellationToken` in the signature.\n",
    "\n",
    "Let's review the following example:\n",
    "1. We use a `CancellationTokenSource` to build a `CancellationToken`.\n",
    "2. We run 2 tasks in parallel using the `Task.WhenAll` method.\n",
    "2. `CancelTokenAfter1s` triggers a cancellation token after 1s delay on the `CancellationTokenSource` instance.\n",
    "2. `DoWorkAsync` method waits 2s to complete. Receives the cancellation token controlled by previous task. It will never finish since the task will be cancelled after 1s.\n",
    "3. After 1s, the `DoWorkAsync` execution is aborted\n",
    "4. The Task.WhenAll task is completed"
   ]
  },
  {
   "cell_type": "code",
   "execution_count": 14,
   "id": "5ad63e55",
   "metadata": {},
   "outputs": [
    {
     "name": "stdout",
     "output_type": "stream",
     "text": [
      "[7/17/2025 12:56:27 PM] DoWorkAsync - Starting work.\n",
      "[7/17/2025 12:56:28 PM] CancelTokenAfter1s - Cancelling work.\n",
      "[7/17/2025 12:56:28 PM] DoWorkAsync - Work was cancelled.\n"
     ]
    }
   ],
   "source": [
    "using System.Threading;\n",
    "\n",
    "public class AsyncExample\n",
    "{\n",
    "    public async Task DoWorkAsync(CancellationToken cancellationToken)\n",
    "    {\n",
    "        try \n",
    "        {\n",
    "            Console.WriteLine($\"[{DateTime.Now}] DoWorkAsync - Starting work.\");\n",
    "            await Task.Delay(2000, cancellationToken);\n",
    "            Console.WriteLine($\"[{DateTime.Now}] DoWorkAsync - Work completed.\");\n",
    "        } \n",
    "        catch (TaskCanceledException) \n",
    "        {\n",
    "            Console.WriteLine($\"[{DateTime.Now}] DoWorkAsync - Work was cancelled.\");\n",
    "        }\n",
    "    }\n",
    "\n",
    "    public async Task CancelTokenAfter1s(CancellationTokenSource cts) \n",
    "    {\n",
    "        await Task.Delay(1000);\n",
    "        Console.WriteLine($\"[{DateTime.Now}] CancelTokenAfter1s - Cancelling work.\");\n",
    "        cts.Cancel();\n",
    "    }\n",
    "}\n",
    "\n",
    "var cts = new CancellationTokenSource();\n",
    "var example = new AsyncExample();\n",
    "\n",
    "// Run both tasks concurrently\n",
    "await Task.WhenAll(\n",
    "    example.CancelTokenAfter1s(cts),\n",
    "    example.DoWorkAsync(cts.Token) // This task will be cancelled\n",
    ");"
   ]
  },
  {
   "cell_type": "markdown",
   "id": "e93c20b5",
   "metadata": {},
   "source": [
    "### Fire and forget\n",
    "Sometimes you may need to run a task in the background without waiting the result. This is known as a fire and forget task.\n",
    "\n",
    "This is specially **dangerous** as it's hard to monitor when a task is completed or if it resulted with errors. Avoid this as much as possible."
   ]
  },
  {
   "cell_type": "code",
   "execution_count": 13,
   "id": "1cf42ccf",
   "metadata": {},
   "outputs": [
    {
     "name": "stdout",
     "output_type": "stream",
     "text": [
      "[7/17/2025 12:56:27 PM] First message.\n",
      "[7/17/2025 12:56:27 PM] Second message.\n"
     ]
    }
   ],
   "source": [
    "Console.WriteLine($\"[{DateTime.Now}] First message.\");\n",
    "Task.Delay(1000); // This may produce warnings if not awaited\n",
    "Console.WriteLine($\"[{DateTime.Now}] Second message.\");"
   ]
  },
  {
   "cell_type": "markdown",
   "id": "bb2203a5",
   "metadata": {},
   "source": [
    "### Synchronous processing\n",
    "You can ran an async task in a synchronous way. This is **dangerous** and can create deadlocks or performance problems, but sometimes is useful when building supporting code for tests, etc."
   ]
  },
  {
   "cell_type": "code",
   "execution_count": 15,
   "id": "f5bdc1db",
   "metadata": {},
   "outputs": [
    {
     "name": "stdout",
     "output_type": "stream",
     "text": [
      "[7/17/2025 12:59:13 PM] Waiting 1s.\n",
      "[7/17/2025 12:59:14 PM] Task completed.\n"
     ]
    }
   ],
   "source": [
    "Console.WriteLine($\"[{DateTime.Now}] Waiting 1s.\");\n",
    "Task.Delay(1000).GetAwaiter().GetResult(); // Synchronous wait, dangerous!\n",
    "Console.WriteLine($\"[{DateTime.Now}] Task completed.\");"
   ]
  }
 ],
 "metadata": {
  "kernelspec": {
   "display_name": ".NET (C#)",
   "language": "C#",
   "name": ".net-csharp"
  },
  "language_info": {
   "name": "polyglot-notebook"
  },
  "polyglot_notebook": {
   "kernelInfo": {
    "defaultKernelName": "csharp",
    "items": [
     {
      "aliases": [],
      "name": "csharp"
     }
    ]
   }
  }
 },
 "nbformat": 4,
 "nbformat_minor": 5
}
